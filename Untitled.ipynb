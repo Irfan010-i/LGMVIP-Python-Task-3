{
 "cells": [
  {
   "cell_type": "code",
   "execution_count": null,
   "id": "f6dc021c-d441-4a0c-85aa-0517f165c36d",
   "metadata": {},
   "outputs": [],
   "source": []
  }
 ],
 "metadata": {
  "kernelspec": {
   "display_name": "",
   "name": ""
  },
  "language_info": {
   "name": ""
  }
 },
 "nbformat": 4,
 "nbformat_minor": 5
}
